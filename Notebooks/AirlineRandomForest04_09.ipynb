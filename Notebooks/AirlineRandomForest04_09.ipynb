{
  "nbformat": 4,
  "nbformat_minor": 0,
  "metadata": {
    "colab": {
      "provenance": [],
      "machine_shape": "hm"
    },
    "kernelspec": {
      "name": "python3",
      "display_name": "Python 3"
    },
    "language_info": {
      "name": "python"
    },
    "accelerator": "TPU"
  },
  "cells": [
    {
      "cell_type": "code",
      "execution_count": null,
      "metadata": {
        "id": "Iqb6ywH4txGv"
      },
      "outputs": [],
      "source": [
        "import pandas as pd\n",
        "import numpy as np\n",
        "from sklearn.ensemble import RandomForestClassifier\n",
        "from sklearn.metrics import classification_report, confusion_matrix, accuracy_score\n",
        "import tensorflow as tf\n",
        "from sklearn.model_selection import train_test_split\n",
        "from google.colab import drive"
      ]
    },
    {
      "cell_type": "code",
      "source": [
        "#Importing and starting the TPU\n",
        "tpu = tf.distribute.cluster_resolver.TPUClusterResolver()\n",
        "tf.config.experimental_connect_to_cluster(tpu)\n",
        "tf.tpu.experimental.initialize_tpu_system(tpu)\n",
        "strategy = tf.distribute.TPUStrategy(tpu)"
      ],
      "metadata": {
        "id": "ND_zv0OvuE5S"
      },
      "execution_count": null,
      "outputs": []
    },
    {
      "cell_type": "code",
      "source": [
        "# Connecting to Google Drive\n",
        "drive.mount('/content/drive')\n",
        "\n",
        "# Load the preprocessed and balanced features from CSV\n",
        "df_resampled_features = pd.read_csv('/content/drive/MyDrive/yuksekTez/airline_dataset/preprocessed_balanced_features.csv')\n",
        "\n",
        "# Load the balanced labels from CSV\n",
        "df_resampled_labels = pd.read_csv('/content/drive/MyDrive/yuksekTez/airline_dataset/preprocessed_balanced_labels.csv')"
      ],
      "metadata": {
        "colab": {
          "base_uri": "https://localhost:8080/"
        },
        "id": "izbY6K8fuGF-",
        "outputId": "b96fa4f0-3db1-4cb0-af89-38ee7bf9e39e"
      },
      "execution_count": null,
      "outputs": [
        {
          "output_type": "stream",
          "name": "stdout",
          "text": [
            "Mounted at /content/drive\n"
          ]
        }
      ]
    },
    {
      "cell_type": "code",
      "source": [
        "# Split the dataset into features (X) and labels (y)\n",
        "X = df_resampled_features.values\n",
        "y = df_resampled_labels['airline_sentiment'].values\n",
        "\n",
        "# Split the dataset into training and test sets\n",
        "X_train, X_test, y_train, y_test = train_test_split(X, y, test_size=0.25, random_state=42)\n"
      ],
      "metadata": {
        "id": "0MWTyvo6ujUK"
      },
      "execution_count": null,
      "outputs": []
    },
    {
      "cell_type": "code",
      "source": [
        "# Create a Random Forest model\n",
        "with strategy.scope():\n",
        "    model = RandomForestClassifier(n_estimators=500, random_state=42)\n",
        "\n",
        "    # Train the model\n",
        "    model.fit(X_train, y_train)\n",
        "\n",
        "    # Make predictions on the test set\n",
        "    y_pred = model.predict(X_test)\n"
      ],
      "metadata": {
        "id": "h5l1oI99um3q"
      },
      "execution_count": null,
      "outputs": []
    },
    {
      "cell_type": "code",
      "source": [
        "# Calculate the accuracy, precision, recall, and f1-score\n",
        "accuracy = accuracy_score(y_test, y_pred)\n",
        "classification_rep = classification_report(y_test, y_pred)\n",
        "confusion_mat = confusion_matrix(y_test, y_pred)"
      ],
      "metadata": {
        "id": "_IE0A8NTuoBy"
      },
      "execution_count": null,
      "outputs": []
    },
    {
      "cell_type": "code",
      "source": [
        "# Print the results\n",
        "print('Accuracy:', accuracy)\n",
        "print('Classification Report:\\n', classification_rep)\n",
        "print('Confusion Matrix:\\n', confusion_mat)\n",
        "\n",
        "# Save predictions to a CSV file if needed\n",
        "# df_pred = pd.DataFrame({\"predicted_values\": y_pred, \"real_values\": y_test})\n",
        "# df_pred.to_csv('/content/drive/MyDrive/yuksekTez/airline_dataset/RandomForestPredict.csv', index=False)"
      ],
      "metadata": {
        "colab": {
          "base_uri": "https://localhost:8080/"
        },
        "id": "I_IBYiFTupci",
        "outputId": "cf916f23-19d8-4507-9c69-16d5802da433"
      },
      "execution_count": null,
      "outputs": [
        {
          "output_type": "stream",
          "name": "stdout",
          "text": [
            "Accuracy: 0.8819000581057524\n",
            "Classification Report:\n",
            "               precision    recall  f1-score   support\n",
            "\n",
            "    negative       0.90      0.84      0.87      2374\n",
            "     neutral       0.83      0.88      0.86      2233\n",
            "    positive       0.92      0.93      0.92      2277\n",
            "\n",
            "    accuracy                           0.88      6884\n",
            "   macro avg       0.88      0.88      0.88      6884\n",
            "weighted avg       0.88      0.88      0.88      6884\n",
            "\n",
            "Confusion Matrix:\n",
            " [[1988  285  101]\n",
            " [ 181 1970   82]\n",
            " [  49  115 2113]]\n"
          ]
        }
      ]
    }
  ]
}