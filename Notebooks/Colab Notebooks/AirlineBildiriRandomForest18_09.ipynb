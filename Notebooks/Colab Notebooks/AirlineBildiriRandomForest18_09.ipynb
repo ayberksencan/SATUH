{
  "nbformat": 4,
  "nbformat_minor": 0,
  "metadata": {
    "colab": {
      "provenance": [],
      "machine_shape": "hm",
      "gpuType": "T4"
    },
    "kernelspec": {
      "name": "python3",
      "display_name": "Python 3"
    },
    "language_info": {
      "name": "python"
    },
    "accelerator": "GPU"
  },
  "cells": [
    {
      "cell_type": "code",
      "execution_count": null,
      "metadata": {
        "id": "ZIIUC0IPfgGc"
      },
      "outputs": [],
      "source": [
        "from google.colab import drive\n",
        "import pandas as pd\n",
        "from sklearn.model_selection import train_test_split\n",
        "import numpy as np\n",
        "from sklearn.ensemble import RandomForestClassifier\n",
        "from sklearn.metrics import classification_report\n",
        "import matplotlib.pyplot as plt"
      ]
    },
    {
      "cell_type": "code",
      "source": [
        "# Mount Google Drive\n",
        "drive.mount('/content/drive')\n",
        "\n",
        "# Define the path to the preprocessed dataset\n",
        "preprocessed_data_path = '/content/drive/MyDrive/yuksekTez/airline_dataset/preprocessed_data18-09.csv'\n",
        "\n",
        "# Load the preprocessed data\n",
        "preprocessed_df = pd.read_csv(preprocessed_data_path)"
      ],
      "metadata": {
        "colab": {
          "base_uri": "https://localhost:8080/"
        },
        "id": "8sRQ_QGxfvTW",
        "outputId": "bbbd1357-9e49-4880-eec5-a436238b6826"
      },
      "execution_count": null,
      "outputs": [
        {
          "output_type": "stream",
          "name": "stdout",
          "text": [
            "Drive already mounted at /content/drive; to attempt to forcibly remount, call drive.mount(\"/content/drive\", force_remount=True).\n"
          ]
        }
      ]
    },
    {
      "cell_type": "code",
      "source": [
        "# Split data into features (X) and labels (y)\n",
        "X = preprocessed_df.drop(columns=['label']).values\n",
        "y = preprocessed_df['label'].values\n",
        "\n",
        "# Split data into training, validation, and testing sets\n",
        "X_train, X_temp, y_train, y_temp = train_test_split(X, y, test_size=0.25, random_state=42)\n",
        "X_val, X_test, y_val, y_test = train_test_split(X_temp, y_temp, test_size=0.1, random_state=42)"
      ],
      "metadata": {
        "id": "ARuC5Ij5fyNl"
      },
      "execution_count": null,
      "outputs": []
    },
    {
      "cell_type": "code",
      "source": [
        "# Train a Random Forest Classifier\n",
        "rf_classifier = RandomForestClassifier(n_estimators=100, random_state=42)\n",
        "# Train the classifier\n",
        "history = rf_classifier.fit(X_train, y_train)"
      ],
      "metadata": {
        "id": "H7AJLKXjfzve"
      },
      "execution_count": null,
      "outputs": []
    },
    {
      "cell_type": "code",
      "source": [
        "# Evaluate the model\n",
        "accuracy = rf_classifier.score(X_test, y_test)\n",
        "print(f'Accuracy: {accuracy}')\n",
        "\n",
        "# You can also use other evaluation metrics like precision, recall, f1-score\n",
        "y_pred = rf_classifier.predict(X_test)\n",
        "report = classification_report(y_test, y_pred)\n",
        "print(report)"
      ],
      "metadata": {
        "colab": {
          "base_uri": "https://localhost:8080/"
        },
        "id": "z9iUlWZ4f1Un",
        "outputId": "7276d91d-02e1-4723-e9d8-dee4a9a654c1"
      },
      "execution_count": null,
      "outputs": [
        {
          "output_type": "stream",
          "name": "stdout",
          "text": [
            "Accuracy: 0.8896952104499274\n",
            "              precision    recall  f1-score   support\n",
            "\n",
            "        -1.0       0.87      0.87      0.87       242\n",
            "         0.0       0.88      0.86      0.87       222\n",
            "         1.0       0.92      0.93      0.93       225\n",
            "\n",
            "    accuracy                           0.89       689\n",
            "   macro avg       0.89      0.89      0.89       689\n",
            "weighted avg       0.89      0.89      0.89       689\n",
            "\n"
          ]
        }
      ]
    }
  ]
}