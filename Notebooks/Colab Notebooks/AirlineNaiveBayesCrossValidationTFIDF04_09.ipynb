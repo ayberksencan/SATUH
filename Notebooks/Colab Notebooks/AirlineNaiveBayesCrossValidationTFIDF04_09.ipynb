{
  "nbformat": 4,
  "nbformat_minor": 0,
  "metadata": {
    "colab": {
      "provenance": [],
      "machine_shape": "hm"
    },
    "kernelspec": {
      "name": "python3",
      "display_name": "Python 3"
    },
    "language_info": {
      "name": "python"
    },
    "accelerator": "TPU"
  },
  "cells": [
    {
      "cell_type": "code",
      "execution_count": null,
      "metadata": {
        "id": "u5KoHBuqkHVo"
      },
      "outputs": [],
      "source": [
        "import tensorflow as tf\n",
        "# Connect to TPU\n",
        "tpu = tf.distribute.cluster_resolver.TPUClusterResolver()\n",
        "tf.config.experimental_connect_to_cluster(tpu)\n",
        "tf.tpu.experimental.initialize_tpu_system(tpu)\n",
        "strategy = tf.distribute.TPUStrategy(tpu)"
      ]
    },
    {
      "cell_type": "code",
      "source": [
        "import pandas as pd\n",
        "import numpy as np\n",
        "from google.colab import drive\n",
        "from sklearn.naive_bayes import MultinomialNB\n",
        "from sklearn.metrics import accuracy_score, classification_report, confusion_matrix\n",
        "from sklearn.model_selection import cross_val_score\n",
        "import tensorflow as tf"
      ],
      "metadata": {
        "id": "G4JDqIFmkNgY"
      },
      "execution_count": null,
      "outputs": []
    },
    {
      "cell_type": "code",
      "source": [
        "# Connecting to Google Drive\n",
        "drive.mount('/content/drive')\n",
        "\n",
        "# Load the preprocessed and balanced features from CSV\n",
        "df_resampled_features = pd.read_csv('/content/drive/MyDrive/yuksekTez/airline_dataset/preprocessed_balanced_features.csv')\n",
        "# Load the balanced labels from CSV\n",
        "df_resampled_labels = pd.read_csv('/content/drive/MyDrive/yuksekTez/airline_dataset/preprocessed_balanced_labels.csv')"
      ],
      "metadata": {
        "colab": {
          "base_uri": "https://localhost:8080/"
        },
        "id": "_C4LFpHckWcF",
        "outputId": "6f541f26-21cb-4e9f-c74a-fe4ed9470970"
      },
      "execution_count": null,
      "outputs": [
        {
          "output_type": "stream",
          "name": "stdout",
          "text": [
            "Mounted at /content/drive\n"
          ]
        }
      ]
    },
    {
      "cell_type": "code",
      "source": [
        "# Convert the dataframes to numpy arrays\n",
        "X = df_resampled_features.values\n",
        "y = df_resampled_labels['airline_sentiment'].values"
      ],
      "metadata": {
        "id": "fGtDv0mYlIO9"
      },
      "execution_count": null,
      "outputs": []
    },
    {
      "cell_type": "code",
      "source": [
        "from sklearn.model_selection import train_test_split\n",
        "\n",
        "# Split the data into training and test sets\n",
        "X_train, X_test, y_train, y_test = train_test_split(X, y, test_size=0.2, random_state=42)"
      ],
      "metadata": {
        "id": "4u1-bIeBqqf4"
      },
      "execution_count": null,
      "outputs": []
    },
    {
      "cell_type": "code",
      "source": [
        "# Train the Naive Bayes classifier with cross-validation\n",
        "with strategy.scope():\n",
        "    model = MultinomialNB()\n",
        "    scores = cross_val_score(model, X_train, y_train, cv=5)\n",
        "    print(\"Cross-Validation Scores:\", scores)\n",
        "    print(\"Mean CV Score:\", np.mean(scores))"
      ],
      "metadata": {
        "colab": {
          "base_uri": "https://localhost:8080/"
        },
        "id": "exNPOFO4lIsa",
        "outputId": "94b279ed-0e69-4ef1-b577-7f67f68f1ff3"
      },
      "execution_count": null,
      "outputs": [
        {
          "output_type": "stream",
          "name": "stdout",
          "text": [
            "Cross-Validation Scores: [0.80889696 0.81888334 0.80113507 0.80635641 0.81248581]\n",
            "Mean CV Score: 0.8095515196231741\n"
          ]
        }
      ]
    },
    {
      "cell_type": "code",
      "source": [
        "# Train the model on the entire training set\n",
        "with strategy.scope():\n",
        "    model.fit(X_train, y_train)"
      ],
      "metadata": {
        "id": "Fu5RYSX8lR7j"
      },
      "execution_count": null,
      "outputs": []
    },
    {
      "cell_type": "code",
      "source": [
        "# Test the classifier on the test set\n",
        "with strategy.scope():\n",
        "    y_pred = model.predict(X_test)"
      ],
      "metadata": {
        "id": "FRnjEMKmkYBN"
      },
      "execution_count": null,
      "outputs": []
    },
    {
      "cell_type": "code",
      "source": [
        "# Evaluate the performance of the classifier\n",
        "print(classification_report(y_test, y_pred))\n",
        "print(confusion_matrix(y_test, y_pred))"
      ],
      "metadata": {
        "colab": {
          "base_uri": "https://localhost:8080/"
        },
        "id": "3TFQq3DwkaeV",
        "outputId": "f24b60ff-034a-4310-a45f-390a86fe0f14"
      },
      "execution_count": null,
      "outputs": [
        {
          "output_type": "stream",
          "name": "stdout",
          "text": [
            "              precision    recall  f1-score   support\n",
            "\n",
            "    negative       0.78      0.86      0.82      1895\n",
            "     neutral       0.82      0.72      0.77      1786\n",
            "    positive       0.87      0.89      0.88      1826\n",
            "\n",
            "    accuracy                           0.82      5507\n",
            "   macro avg       0.82      0.82      0.82      5507\n",
            "weighted avg       0.82      0.82      0.82      5507\n",
            "\n",
            "[[1622  181   92]\n",
            " [ 345 1293  148]\n",
            " [ 103  105 1618]]\n"
          ]
        }
      ]
    }
  ]
}